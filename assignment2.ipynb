{
 "cells": [
  {
   "cell_type": "code",
   "execution_count": 15,
   "id": "6cadac88-3028-4183-aaeb-493f2a83ec26",
   "metadata": {},
   "outputs": [
    {
     "name": "stdout",
     "output_type": "stream",
     "text": [
      "10\n",
      "1\n",
      "too low\n"
     ]
    }
   ],
   "source": [
    "#Exo 4.1.\n",
    "import random\n",
    "#Randomly assign a number between 1 and 10 to the variable 'secret'\n",
    "secret=random.randint(1,10)\n",
    "print (secret)\n",
    "guess=random.randint(1,10)\n",
    "print(guess)\n",
    "\n",
    "if guess< secret:\n",
    "    print(\"too low\")\n",
    "elif guess==secret :\n",
    "    print (\"just right\")\n",
    "else:\n",
    "    print(\"too high\")\n"
   ]
  },
  {
   "cell_type": "code",
   "execution_count": 20,
   "id": "482b7518-916e-468e-a3d7-a8503e9bd5d8",
   "metadata": {},
   "outputs": [
    {
     "name": "stdout",
     "output_type": "stream",
     "text": [
      "pea\n"
     ]
    }
   ],
   "source": [
    "#Exo 4.2\n",
    "Small= True\n",
    "green = True\n",
    "\n",
    "# Condition\n",
    "if Small and green:\n",
    "    print(\"pea\")\n",
    "elif Small and not green:\n",
    "    print(\"cherry\")\n",
    "elif not Small and green:\n",
    "    print(\"watermelon\")\n",
    "else:\n",
    "    print(\"pumpkin\")\n"
   ]
  },
  {
   "cell_type": "code",
   "execution_count": 57,
   "id": "7fb8a0df-103e-4044-bcc9-70caf2c3bb99",
   "metadata": {},
   "outputs": [
    {
     "name": "stdout",
     "output_type": "stream",
     "text": [
      "3\n",
      "2\n",
      "1\n",
      "0\n"
     ]
    },
    {
     "data": {
      "text/plain": [
       "[3, 2, 1, 0]"
      ]
     },
     "execution_count": 57,
     "metadata": {},
     "output_type": "execute_result"
    }
   ],
   "source": [
    "#Exo 6.1#\n",
    "for x in range (3,-1,-1):\n",
    "    print (x)\n",
    "list(range(3,-1,-1))\n",
    "    "
   ]
  },
  {
   "cell_type": "code",
   "execution_count": 55,
   "id": "7f7bb86e-fdbc-4e51-acd9-c80ad65c3f4a",
   "metadata": {},
   "outputs": [
    {
     "name": "stdout",
     "output_type": "stream",
     "text": [
      "too low\n",
      "too low\n",
      "too low\n",
      "too low\n",
      "too low\n",
      "too low\n",
      "found it\n"
     ]
    }
   ],
   "source": [
    "#Exo.6.2#\n",
    "\n",
    "guess_me = 7\n",
    "number = 1\n",
    "while True :\n",
    "    if number < guess_me :\n",
    "        print(\"too low\")\n",
    "    elif number == guess_me:\n",
    "        print(\"found it\")\n",
    "        break\n",
    "    else:\n",
    "     print(\"oops\")\n",
    "     break\n",
    "    number +=1 \n",
    "   \n",
    "        \n",
    "    "
   ]
  },
  {
   "cell_type": "code",
   "execution_count": 89,
   "id": "d0f9e014-fcad-4d90-ba36-21dc3acd3830",
   "metadata": {},
   "outputs": [
    {
     "name": "stdout",
     "output_type": "stream",
     "text": [
      "too low\n",
      "too low\n",
      "too low\n",
      "too low\n",
      "too low\n",
      "found it\n"
     ]
    }
   ],
   "source": [
    "#Exo 6.3\n",
    "\n",
    "guess_me = 5\n",
    "\n",
    "for number in range(10):\n",
    "    if number < guess_me :\n",
    "        print(\"too low\")\n",
    "    elif number == guess_me:\n",
    "        print(\"found it\")\n",
    "        break\n",
    "    else:\n",
    "        print(\"oops\")\n",
    "        break"
   ]
  },
  {
   "cell_type": "code",
   "execution_count": null,
   "id": "023285a6-523d-4a24-9611-aad6cf644018",
   "metadata": {},
   "outputs": [],
   "source": []
  },
  {
   "cell_type": "code",
   "execution_count": null,
   "id": "c25b6a55-614f-4553-87a4-d52fec9dbb68",
   "metadata": {},
   "outputs": [],
   "source": []
  },
  {
   "cell_type": "code",
   "execution_count": null,
   "id": "b69c8b61-7c77-47f8-bbe7-62a57f1763fb",
   "metadata": {},
   "outputs": [],
   "source": []
  }
 ],
 "metadata": {
  "kernelspec": {
   "display_name": "Python 3 (ipykernel)",
   "language": "python",
   "name": "python3"
  },
  "language_info": {
   "codemirror_mode": {
    "name": "ipython",
    "version": 3
   },
   "file_extension": ".py",
   "mimetype": "text/x-python",
   "name": "python",
   "nbconvert_exporter": "python",
   "pygments_lexer": "ipython3",
   "version": "3.12.7"
  }
 },
 "nbformat": 4,
 "nbformat_minor": 5
}
